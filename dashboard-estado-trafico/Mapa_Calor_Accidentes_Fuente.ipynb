{
 "cells": [
  {
   "cell_type": "code",
   "execution_count": 21,
   "id": "5a1d3035-9294-441e-9f84-86a747abb136",
   "metadata": {},
   "outputs": [],
   "source": [
    "import pandas as pd\n",
    "import numpy as np\n",
    "import geopandas as gpd\n",
    "from shapely.geometry import Point\n",
    "import folium\n",
    "from folium.plugins import HeatMapWithTime\n",
    "\n",
    "columnas_deseadas = ['Latitud', 'Longitud', 'Fecha_Acc', 'Hora_Acc', 'Dia_Semana_Acc']\n",
    "df = pd.read_csv('accidentes.csv', usecols=columnas_deseadas, sep=';')\n",
    "df = df.dropna()\n",
    "df['Fecha_Acc'] = pd.to_datetime(df['Fecha_Acc'], errors='coerce')\n",
    "\n",
    "df.head();"
   ]
  },
  {
   "cell_type": "code",
   "execution_count": 25,
   "id": "f5953bc5-627e-40aa-a31e-991acfbc5b19",
   "metadata": {},
   "outputs": [
    {
     "name": "stderr",
     "output_type": "stream",
     "text": [
      "C:\\Users\\David Bonilla\\AppData\\Local\\Temp\\ipykernel_23296\\2732625945.py:11: DeprecationWarning: DataFrameGroupBy.apply operated on the grouping columns. This behavior is deprecated, and in a future version of pandas the grouping columns will be excluded from the operation. Either pass `include_groups=False` to exclude the groupings or explicitly select the grouping columns after groupby to silence this warning.\n",
      "  heatmap_data = gdf.groupby(['datetime']).apply(\n"
     ]
    },
    {
     "data": {
      "text/plain": [
       "'mapa_calor_accidentes.html'"
      ]
     },
     "execution_count": 25,
     "metadata": {},
     "output_type": "execute_result"
    }
   ],
   "source": [
    "gdf = gpd.GeoDataFrame(df, geometry=gpd.points_from_xy(df['Longitud'], df['Latitud']))\n",
    "gdf.set_crs(epsg=4326, inplace=True)\n",
    "\n",
    "# Crear cuadrantes de 0.01° (~1km x 1km)\n",
    "gdf['cuadrante_x'] = (gdf['Longitud'] * 100).astype(int)\n",
    "gdf['cuadrante_y'] = (gdf['Latitud'] * 100).astype(int)\n",
    "gdf['zona'] = gdf['cuadrante_x'].astype(str) + '_' + gdf['cuadrante_y'].astype(str)\n",
    "\n",
    "# Agrupar por zona, día y hora\n",
    "gdf['datetime'] = gdf['Fecha_Acc'].dt.floor('h')\n",
    "heatmap_data = gdf.groupby(['datetime']).apply(\n",
    "    lambda x: [[row['Latitud'], row['Longitud']] for _, row in x.iterrows()]\n",
    ").reset_index(name='coordenadas')\n",
    "\n",
    "# Formato requerido por HeatMapWithTime\n",
    "heat_data = heatmap_data['coordenadas'].tolist()\n",
    "time_index = heatmap_data['datetime'].dt.strftime('%Y-%m-%d %H:%M:%S').tolist()\n",
    "\n",
    "# Crear mapa base centrado en Bogotá\n",
    "m = folium.Map(location=[4.65, -74.1], zoom_start=11)\n",
    "\n",
    "# Agregar mapa de calor con slider de tiempo\n",
    "HeatMapWithTime(heat_data, index=time_index, auto_play=False, max_opacity=0.6, radius=15,).add_to(m)\n",
    "\n",
    "# Guardar HTML para visualización\n",
    "map_path = \"mapa_calor_accidentes.html\"\n",
    "m.save(map_path)\n",
    "\n",
    "map_path"
   ]
  },
  {
   "cell_type": "code",
   "execution_count": 17,
   "id": "5167254c-5483-4678-9451-f708f13b176d",
   "metadata": {},
   "outputs": [],
   "source": [
    "from folium.plugins import MarkerCluster\n",
    "\n",
    "# Cargar datos (ajusta la ruta o usa un DataFrame directo)\n",
    "df = pd.read_csv(\"red_semaforos.csv\")  # Debe tener columnas: lat, lon\n",
    "\n",
    "# Crear un mapa base centrado en el promedio de las coordenadas\n",
    "m = folium.Map(location=[df[\"Y\"].mean(), df[\"X\"].mean()], zoom_start=12)\n",
    "\n",
    "# Crear un agrupador de marcadores\n",
    "marker_cluster = MarkerCluster().add_to(m)\n",
    "\n",
    "# Añadir puntos al cluster\n",
    "for i, row in df.iterrows():\n",
    "    folium.Marker(location=[row[\"Y\"], row[\"X\"]]).add_to(marker_cluster)\n",
    "\n",
    "# Guardar como HTML\n",
    "m.save(\"mapa_con_puntos.html\")"
   ]
  },
  {
   "cell_type": "code",
   "execution_count": null,
   "id": "4a3aa670-0d38-4001-95fe-d64e76cb46e2",
   "metadata": {},
   "outputs": [],
   "source": []
  }
 ],
 "metadata": {
  "kernelspec": {
   "display_name": "Python [conda env:base] *",
   "language": "python",
   "name": "conda-base-py"
  },
  "language_info": {
   "codemirror_mode": {
    "name": "ipython",
    "version": 3
   },
   "file_extension": ".py",
   "mimetype": "text/x-python",
   "name": "python",
   "nbconvert_exporter": "python",
   "pygments_lexer": "ipython3",
   "version": "3.12.7"
  }
 },
 "nbformat": 4,
 "nbformat_minor": 5
}
